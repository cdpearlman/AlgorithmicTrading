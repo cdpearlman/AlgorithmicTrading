{
 "cells": [
  {
   "cell_type": "markdown",
   "metadata": {},
   "source": [
    "# This file is for functional strategies only!"
   ]
  },
  {
   "cell_type": "code",
   "execution_count": 8,
   "metadata": {},
   "outputs": [],
   "source": [
    "def add_trend_signal(df):\n",
    "    df['Trend'] = 0\n",
    "    for i in range(5, len(df)):\n",
    "        window = df.iloc[i-5:i]\n",
    "        if all(window['Close'] > window['EMA_200']):\n",
    "            df.loc[i, 'Trend'] = 1\n",
    "        elif all(window['Close'] < window['EMA_200']):\n",
    "            df.loc[i, 'Trend'] = -1\n",
    "\n",
    "    return df"
   ]
  },
  {
   "cell_type": "code",
   "execution_count": 11,
   "metadata": {},
   "outputs": [],
   "source": [
    "def add_total_signal(df):\n",
    "    # Strategy: Trade with trend, rsi > 50, and engulfing candle\n",
    "    # Trade Management: Stop loss @ 2x candle width, 1.5 risk to reward ratio\n",
    "    # -------------------------------------------------------------------------------\n",
    "    # Trial 1: Very negative returns, going to try just buys\n",
    "    # Trial 2: Only did buy positions, positive returns, not as high as buy & hold returns\n",
    "    # Results: ~35% win rate with positive decent returns (14.5%) for 2.0 ratio\n",
    "    \n",
    "    # df['engulfing_signal'] = 0\n",
    "    # df.loc[ (df['Close'] > df['EMA_200']) & (df['RSI'] > 50) & (df['Engulfing'] == 100), 'engulfing_signal'] = 1\n",
    "\n",
    "    # Strategy: Trade with trend, if candle closes outside of bollinger bands, make a limit order at 3% below closing price\n",
    "    # Trade Management: Limit order is valid for 5 days, stop loss @ 3% below limit, 1.5 risk to reward ratio\n",
    "    # -------------------------------------------------------------------------------\n",
    "    # Trial 1: ~40% win rate with positive decent returns (11.5%) for 1.9 ratio\n",
    "    # Trail 2: Sell when RSI crosses 50 line, much better returns (~27%)\n",
    "    # Trial 3: Same trade management, only buy signals. ~45% return rate and 72% win rate\n",
    "    df['bb_signal'] = 0\n",
    "    df.loc[ (df['Trend'] == 1) & (df['Close'] < df['BBL_20_2.0']), 'bb_signal'] = 1\n",
    "    # df.loc[ (df['Trend'] == -1) & (df['Close'] > df['BBU_20_2.0']), 'bb_signal'] = -1\n",
    "\n",
    "    # Strategy: Trade with trend, look for MACD crossover above or below the zero line\n",
    "    # Trade Management: Optimize parameters for sl and tp\n",
    "    # -------------------------------------------------------------------------------\n",
    "    # Trial 1: ~ 60% win rate with ~16% return rate, begin paper trade testing\n",
    "    # df['macd_signal'] = 0\n",
    "    # df.loc[ (df['Trend'] == 1) & (df['MACD_cross'] == 1) & (df['MACD_12_26_9'] < 0), 'macd_signal'] = 1\n",
    "\n",
    "    #Strategy: Trade with trend, buy if 50 SMA crosses above 200 SMA, sell is 50 SMA crosses below 200 SMA\n",
    "    #Trade Management: Trailing stop loss @ 2x ATR\n",
    "    # -------------------------------------------------------------------------------\n",
    "    # Trial 1:\n",
    "\n",
    "    return df"
   ]
  },
  {
   "cell_type": "code",
   "execution_count": 12,
   "metadata": {},
   "outputs": [],
   "source": [
    "import yfinance as yf\n",
    "from yahoo_fin import stock_info as si\n",
    "import pandas_ta as ta\n",
    "import numpy as np\n",
    "import pandas as pd\n",
    "\n",
    "def import_data(stock, startDate):\n",
    "    data = yf.download(stock, start=startDate, interval='1d')\n",
    "\n",
    "    data['EMA_200'] = ta.ema(data['Close'], length=200)\n",
    "    data['SMA_50'] = ta.sma(data['Close'], length=50)\n",
    "    data['SMA_200'] = ta.sma(data['Close'], length=200)\n",
    "    data['RSI'] = ta.rsi(data['Close'], length=14)\n",
    "    data['ATR'] = ta.atr(data['High'], data['Low'], data['Close'], length=14)\n",
    "    data['Engulfing'] = data.ta.cdl_pattern(name=\"engulfing\")\n",
    "    bbands = ta.bbands(data['Close'], length=20, std=2)\n",
    "    macd = ta.macd(data['Close'])\n",
    "    data = data.join(bbands)\n",
    "    data = data.join(macd)\n",
    "    \n",
    "    data.reset_index(inplace=True)\n",
    "    \n",
    "    data = add_trend_signal(data)\n",
    "    # data = add_macd_signal(data)\n",
    "    data = add_total_signal(data)\n",
    "    # data = add_sma_signal(data)\n",
    "\n",
    "    return data"
   ]
  },
  {
   "cell_type": "code",
   "execution_count": 13,
   "metadata": {},
   "outputs": [],
   "source": [
    "def calc_bb(ticker, risk):\n",
    "    df = import_data(ticker, '2022-01-01')\n",
    "    today = df.iloc[-1]\n",
    "    curr = today.Close\n",
    "    order = curr - (curr * .03)\n",
    "    stop = order - (order * .03)\n",
    "    shares = risk / (order - stop)\n",
    "\n",
    "    order = round(order, 2)\n",
    "    shares = round(shares, 2)\n",
    "\n",
    "    print(f'Buy {ticker} at {order}, Shares: {shares}')"
   ]
  },
  {
   "cell_type": "code",
   "execution_count": 14,
   "metadata": {},
   "outputs": [],
   "source": [
    "def find_buys():\n",
    "    bb_buys = []\n",
    "    engulfing_buys = []\n",
    "    macd_buys = []\n",
    "    sp500_url = 'https://en.wikipedia.org/wiki/List_of_S%26P_500_companies'\n",
    "    sp500_table = pd.read_html(sp500_url)\n",
    "    TICKERS = sp500_table[0]['Symbol'].tolist()\n",
    "\n",
    "    for ticker in TICKERS:\n",
    "        try:\n",
    "            df = import_data(ticker, '2023-01-01')\n",
    "            # engulfing_signal = df.iloc[-1]['engulfing_signal']\n",
    "            bb_signal = df.iloc[-1]['bb_signal']\n",
    "            # macd_signal = df.iloc[-1]['macd_signal']\n",
    "            # if engulfing_signal == 1:\n",
    "            #     engulfing_buys.append(ticker)\n",
    "            if bb_signal != 0:\n",
    "                bb_buys.append(ticker)\n",
    "            # if macd_signal != 0:\n",
    "            #     macd_buys.append(ticker)\n",
    "        except Exception as e:\n",
    "            print(ticker, e)\n",
    "\n",
    "    print(f'BB Buy Signals: {bb_buys}')\n",
    "    for ticker in bb_buys:\n",
    "        calc_bb(ticker, 20)\n",
    "        calc_bb(ticker, 1000)\n",
    "    # print(f'Engulfing Buy Signals: {engulfing_buys}')\n",
    "    # for ticker in engulfing_buys:\n",
    "    #     calc_engulfing(ticker)\n",
    "    # print(f'MACD Signals: {macd_buys}')\n",
    "    # for ticker in macd_buys:\n",
    "    #     calc_macd(ticker)"
   ]
  },
  {
   "cell_type": "code",
   "execution_count": 15,
   "metadata": {},
   "outputs": [
    {
     "name": "stderr",
     "output_type": "stream",
     "text": [
      "[*********************100%%**********************]  1 of 1 completed\n",
      "[*********************100%%**********************]  1 of 1 completed\n",
      "[*********************100%%**********************]  1 of 1 completed\n",
      "[*********************100%%**********************]  1 of 1 completed\n",
      "[*********************100%%**********************]  1 of 1 completed\n",
      "[*********************100%%**********************]  1 of 1 completed\n",
      "[*********************100%%**********************]  1 of 1 completed\n",
      "[*********************100%%**********************]  1 of 1 completed\n",
      "[*********************100%%**********************]  1 of 1 completed\n",
      "[*********************100%%**********************]  1 of 1 completed\n",
      "[*********************100%%**********************]  1 of 1 completed\n",
      "[*********************100%%**********************]  1 of 1 completed\n",
      "[*********************100%%**********************]  1 of 1 completed\n",
      "[*********************100%%**********************]  1 of 1 completed\n",
      "[*********************100%%**********************]  1 of 1 completed\n",
      "[*********************100%%**********************]  1 of 1 completed\n",
      "[*********************100%%**********************]  1 of 1 completed\n",
      "[*********************100%%**********************]  1 of 1 completed\n",
      "[*********************100%%**********************]  1 of 1 completed\n",
      "[*********************100%%**********************]  1 of 1 completed\n",
      "[*********************100%%**********************]  1 of 1 completed\n",
      "[*********************100%%**********************]  1 of 1 completed\n",
      "[*********************100%%**********************]  1 of 1 completed\n",
      "[*********************100%%**********************]  1 of 1 completed\n",
      "[*********************100%%**********************]  1 of 1 completed\n"
     ]
    },
    {
     "name": "stdout",
     "output_type": "stream",
     "text": [
      "AMTM 'NoneType' object is not iterable\n"
     ]
    },
    {
     "name": "stderr",
     "output_type": "stream",
     "text": [
      "[*********************100%%**********************]  1 of 1 completed\n",
      "[*********************100%%**********************]  1 of 1 completed\n",
      "[*********************100%%**********************]  1 of 1 completed\n",
      "[*********************100%%**********************]  1 of 1 completed\n",
      "[*********************100%%**********************]  1 of 1 completed\n",
      "[*********************100%%**********************]  1 of 1 completed\n",
      "[*********************100%%**********************]  1 of 1 completed\n",
      "[*********************100%%**********************]  1 of 1 completed\n",
      "[*********************100%%**********************]  1 of 1 completed\n",
      "[*********************100%%**********************]  1 of 1 completed\n",
      "[*********************100%%**********************]  1 of 1 completed\n",
      "[*********************100%%**********************]  1 of 1 completed\n",
      "[*********************100%%**********************]  1 of 1 completed\n",
      "[*********************100%%**********************]  1 of 1 completed\n",
      "[*********************100%%**********************]  1 of 1 completed\n",
      "[*********************100%%**********************]  1 of 1 completed\n",
      "[*********************100%%**********************]  1 of 1 completed\n",
      "[*********************100%%**********************]  1 of 1 completed\n",
      "[*********************100%%**********************]  1 of 1 completed\n",
      "[*********************100%%**********************]  1 of 1 completed\n",
      "[*********************100%%**********************]  1 of 1 completed\n",
      "[*********************100%%**********************]  1 of 1 completed\n",
      "[*********************100%%**********************]  1 of 1 completed\n",
      "[*********************100%%**********************]  1 of 1 completed\n",
      "[*********************100%%**********************]  1 of 1 completed\n",
      "[*********************100%%**********************]  1 of 1 completed\n",
      "[*********************100%%**********************]  1 of 1 completed\n",
      "[*********************100%%**********************]  1 of 1 completed\n",
      "[*********************100%%**********************]  1 of 1 completed\n",
      "[*********************100%%**********************]  1 of 1 completed\n",
      "[*********************100%%**********************]  1 of 1 completed\n",
      "[*********************100%%**********************]  1 of 1 completed\n",
      "[*********************100%%**********************]  1 of 1 completed\n",
      "[*********************100%%**********************]  1 of 1 completed\n",
      "[*********************100%%**********************]  1 of 1 completed\n",
      "[*********************100%%**********************]  1 of 1 completed\n",
      "\n",
      "1 Failed download:\n",
      "['BRK.B']: YFTzMissingError('$%ticker%: possibly delisted; No timezone found')\n",
      "[*********************100%%**********************]  1 of 1 completed"
     ]
    },
    {
     "name": "stdout",
     "output_type": "stream",
     "text": [
      "BRK.B 'NoneType' object is not iterable\n"
     ]
    },
    {
     "name": "stderr",
     "output_type": "stream",
     "text": [
      "\n",
      "[*********************100%%**********************]  1 of 1 completed\n",
      "[*********************100%%**********************]  1 of 1 completed\n",
      "[*********************100%%**********************]  1 of 1 completed\n",
      "[*********************100%%**********************]  1 of 1 completed\n",
      "[*********************100%%**********************]  1 of 1 completed\n",
      "[*********************100%%**********************]  1 of 1 completed\n",
      "[*********************100%%**********************]  1 of 1 completed\n",
      "[*********************100%%**********************]  1 of 1 completed\n",
      "[*********************100%%**********************]  1 of 1 completed\n",
      "[*********************100%%**********************]  1 of 1 completed\n",
      "[*********************100%%**********************]  1 of 1 completed\n",
      "[*********************100%%**********************]  1 of 1 completed\n",
      "[*********************100%%**********************]  1 of 1 completed\n",
      "[*********************100%%**********************]  1 of 1 completed\n",
      "\n",
      "1 Failed download:\n",
      "['BF.B']: YFPricesMissingError('$%ticker%: possibly delisted; No price data found  (1d 2023-01-01 -> 2024-10-01)')\n",
      "[*********************100%%**********************]  1 of 1 completed"
     ]
    },
    {
     "name": "stdout",
     "output_type": "stream",
     "text": [
      "$BF.B: possibly delisted; No price data found  (1d 2023-01-01 -> 2024-10-01)\n",
      "BF.B 'NoneType' object is not iterable\n"
     ]
    },
    {
     "name": "stderr",
     "output_type": "stream",
     "text": [
      "\n",
      "[*********************100%%**********************]  1 of 1 completed\n",
      "[*********************100%%**********************]  1 of 1 completed\n",
      "[*********************100%%**********************]  1 of 1 completed\n",
      "[*********************100%%**********************]  1 of 1 completed\n",
      "[*********************100%%**********************]  1 of 1 completed\n",
      "[*********************100%%**********************]  1 of 1 completed\n",
      "[*********************100%%**********************]  1 of 1 completed\n",
      "[*********************100%%**********************]  1 of 1 completed\n",
      "[*********************100%%**********************]  1 of 1 completed\n",
      "[*********************100%%**********************]  1 of 1 completed\n",
      "[*********************100%%**********************]  1 of 1 completed\n",
      "[*********************100%%**********************]  1 of 1 completed\n",
      "[*********************100%%**********************]  1 of 1 completed\n",
      "[*********************100%%**********************]  1 of 1 completed\n",
      "[*********************100%%**********************]  1 of 1 completed\n",
      "[*********************100%%**********************]  1 of 1 completed\n",
      "[*********************100%%**********************]  1 of 1 completed\n",
      "[*********************100%%**********************]  1 of 1 completed\n",
      "[*********************100%%**********************]  1 of 1 completed\n",
      "[*********************100%%**********************]  1 of 1 completed\n",
      "[*********************100%%**********************]  1 of 1 completed\n",
      "[*********************100%%**********************]  1 of 1 completed\n",
      "[*********************100%%**********************]  1 of 1 completed\n"
     ]
    },
    {
     "ename": "KeyboardInterrupt",
     "evalue": "",
     "output_type": "error",
     "traceback": [
      "\u001b[1;31m---------------------------------------------------------------------------\u001b[0m",
      "\u001b[1;31mKeyboardInterrupt\u001b[0m                         Traceback (most recent call last)",
      "Cell \u001b[1;32mIn[15], line 1\u001b[0m\n\u001b[1;32m----> 1\u001b[0m \u001b[43mfind_buys\u001b[49m\u001b[43m(\u001b[49m\u001b[43m)\u001b[49m\n",
      "Cell \u001b[1;32mIn[14], line 11\u001b[0m, in \u001b[0;36mfind_buys\u001b[1;34m()\u001b[0m\n\u001b[0;32m      9\u001b[0m \u001b[38;5;28;01mfor\u001b[39;00m ticker \u001b[38;5;129;01min\u001b[39;00m TICKERS:\n\u001b[0;32m     10\u001b[0m     \u001b[38;5;28;01mtry\u001b[39;00m:\n\u001b[1;32m---> 11\u001b[0m         df \u001b[38;5;241m=\u001b[39m \u001b[43mimport_data\u001b[49m\u001b[43m(\u001b[49m\u001b[43mticker\u001b[49m\u001b[43m,\u001b[49m\u001b[43m \u001b[49m\u001b[38;5;124;43m'\u001b[39;49m\u001b[38;5;124;43m2023-01-01\u001b[39;49m\u001b[38;5;124;43m'\u001b[39;49m\u001b[43m)\u001b[49m\n\u001b[0;32m     12\u001b[0m         \u001b[38;5;66;03m# engulfing_signal = df.iloc[-1]['engulfing_signal']\u001b[39;00m\n\u001b[0;32m     13\u001b[0m         bb_signal \u001b[38;5;241m=\u001b[39m df\u001b[38;5;241m.\u001b[39miloc[\u001b[38;5;241m-\u001b[39m\u001b[38;5;241m1\u001b[39m][\u001b[38;5;124m'\u001b[39m\u001b[38;5;124mbb_signal\u001b[39m\u001b[38;5;124m'\u001b[39m]\n",
      "Cell \u001b[1;32mIn[12], line 25\u001b[0m, in \u001b[0;36mimport_data\u001b[1;34m(stock, startDate)\u001b[0m\n\u001b[0;32m     23\u001b[0m data \u001b[38;5;241m=\u001b[39m add_trend_signal(data)\n\u001b[0;32m     24\u001b[0m data \u001b[38;5;241m=\u001b[39m add_macd_signal(data)\n\u001b[1;32m---> 25\u001b[0m data \u001b[38;5;241m=\u001b[39m \u001b[43madd_total_signal\u001b[49m\u001b[43m(\u001b[49m\u001b[43mdata\u001b[49m\u001b[43m)\u001b[49m\n\u001b[0;32m     26\u001b[0m data \u001b[38;5;241m=\u001b[39m add_sma_signal(data)\n\u001b[0;32m     28\u001b[0m \u001b[38;5;28;01mreturn\u001b[39;00m data\n",
      "Cell \u001b[1;32mIn[11], line 27\u001b[0m, in \u001b[0;36madd_total_signal\u001b[1;34m(df)\u001b[0m\n\u001b[0;32m     20\u001b[0m \u001b[38;5;66;03m# df.loc[ (df['Trend'] == -1) & (df['Close'] > df['BBU_20_2.0']), 'bb_signal'] = -1\u001b[39;00m\n\u001b[0;32m     21\u001b[0m \n\u001b[0;32m     22\u001b[0m \u001b[38;5;66;03m# Strategy: Trade with trend, look for MACD crossover above or below the zero line\u001b[39;00m\n\u001b[0;32m     23\u001b[0m \u001b[38;5;66;03m# Trade Management: Optimize parameters for sl and tp\u001b[39;00m\n\u001b[0;32m     24\u001b[0m \u001b[38;5;66;03m# -------------------------------------------------------------------------------\u001b[39;00m\n\u001b[0;32m     25\u001b[0m \u001b[38;5;66;03m# Trial 1: ~ 60% win rate with ~16% return rate, begin paper trade testing\u001b[39;00m\n\u001b[0;32m     26\u001b[0m df[\u001b[38;5;124m'\u001b[39m\u001b[38;5;124mmacd_signal\u001b[39m\u001b[38;5;124m'\u001b[39m] \u001b[38;5;241m=\u001b[39m \u001b[38;5;241m0\u001b[39m\n\u001b[1;32m---> 27\u001b[0m df\u001b[38;5;241m.\u001b[39mloc[ \u001b[43m(\u001b[49m\u001b[43mdf\u001b[49m\u001b[43m[\u001b[49m\u001b[38;5;124;43m'\u001b[39;49m\u001b[38;5;124;43mTrend\u001b[39;49m\u001b[38;5;124;43m'\u001b[39;49m\u001b[43m]\u001b[49m\u001b[43m \u001b[49m\u001b[38;5;241;43m==\u001b[39;49m\u001b[43m \u001b[49m\u001b[38;5;241;43m1\u001b[39;49m\u001b[43m)\u001b[49m\u001b[43m \u001b[49m\u001b[38;5;241;43m&\u001b[39;49m\u001b[43m \u001b[49m\u001b[43m(\u001b[49m\u001b[43mdf\u001b[49m\u001b[43m[\u001b[49m\u001b[38;5;124;43m'\u001b[39;49m\u001b[38;5;124;43mMACD_cross\u001b[39;49m\u001b[38;5;124;43m'\u001b[39;49m\u001b[43m]\u001b[49m\u001b[43m \u001b[49m\u001b[38;5;241;43m==\u001b[39;49m\u001b[43m \u001b[49m\u001b[38;5;241;43m1\u001b[39;49m\u001b[43m)\u001b[49m \u001b[38;5;241m&\u001b[39m (df[\u001b[38;5;124m'\u001b[39m\u001b[38;5;124mMACD_12_26_9\u001b[39m\u001b[38;5;124m'\u001b[39m] \u001b[38;5;241m<\u001b[39m \u001b[38;5;241m0\u001b[39m), \u001b[38;5;124m'\u001b[39m\u001b[38;5;124mmacd_signal\u001b[39m\u001b[38;5;124m'\u001b[39m] \u001b[38;5;241m=\u001b[39m \u001b[38;5;241m1\u001b[39m\n\u001b[0;32m     28\u001b[0m \u001b[38;5;66;03m# df.loc[ (df['Trend'] == -1) & (df['MACD_cross'] == -1) & (df['MACD_12_26_9'] > 0), 'macd_signal'] = -1\u001b[39;00m\n\u001b[0;32m     29\u001b[0m \n\u001b[0;32m     30\u001b[0m \u001b[38;5;66;03m#Strategy: Trade with trend, buy if 50 SMA crosses above 200 SMA, sell is 50 SMA crosses below 200 SMA\u001b[39;00m\n\u001b[0;32m     31\u001b[0m \u001b[38;5;66;03m#Trade Management: Trailing stop loss @ 2x ATR\u001b[39;00m\n\u001b[0;32m     32\u001b[0m \u001b[38;5;66;03m# -------------------------------------------------------------------------------\u001b[39;00m\n\u001b[0;32m     33\u001b[0m \u001b[38;5;66;03m# Trial 1:\u001b[39;00m\n\u001b[0;32m     35\u001b[0m \u001b[38;5;28;01mreturn\u001b[39;00m df\n",
      "File \u001b[1;32m~\\AppData\\Local\\Packages\\PythonSoftwareFoundation.Python.3.11_qbz5n2kfra8p0\\LocalCache\\local-packages\\Python311\\site-packages\\pandas\\core\\ops\\common.py:76\u001b[0m, in \u001b[0;36m_unpack_zerodim_and_defer.<locals>.new_method\u001b[1;34m(self, other)\u001b[0m\n\u001b[0;32m     72\u001b[0m             \u001b[38;5;28;01mreturn\u001b[39;00m \u001b[38;5;28mNotImplemented\u001b[39m\n\u001b[0;32m     74\u001b[0m other \u001b[38;5;241m=\u001b[39m item_from_zerodim(other)\n\u001b[1;32m---> 76\u001b[0m \u001b[38;5;28;01mreturn\u001b[39;00m \u001b[43mmethod\u001b[49m\u001b[43m(\u001b[49m\u001b[38;5;28;43mself\u001b[39;49m\u001b[43m,\u001b[49m\u001b[43m \u001b[49m\u001b[43mother\u001b[49m\u001b[43m)\u001b[49m\n",
      "File \u001b[1;32m~\\AppData\\Local\\Packages\\PythonSoftwareFoundation.Python.3.11_qbz5n2kfra8p0\\LocalCache\\local-packages\\Python311\\site-packages\\pandas\\core\\arraylike.py:70\u001b[0m, in \u001b[0;36mOpsMixin.__and__\u001b[1;34m(self, other)\u001b[0m\n\u001b[0;32m     68\u001b[0m \u001b[38;5;129m@unpack_zerodim_and_defer\u001b[39m(\u001b[38;5;124m\"\u001b[39m\u001b[38;5;124m__and__\u001b[39m\u001b[38;5;124m\"\u001b[39m)\n\u001b[0;32m     69\u001b[0m \u001b[38;5;28;01mdef\u001b[39;00m \u001b[38;5;21m__and__\u001b[39m(\u001b[38;5;28mself\u001b[39m, other):\n\u001b[1;32m---> 70\u001b[0m     \u001b[38;5;28;01mreturn\u001b[39;00m \u001b[38;5;28;43mself\u001b[39;49m\u001b[38;5;241;43m.\u001b[39;49m\u001b[43m_logical_method\u001b[49m\u001b[43m(\u001b[49m\u001b[43mother\u001b[49m\u001b[43m,\u001b[49m\u001b[43m \u001b[49m\u001b[43moperator\u001b[49m\u001b[38;5;241;43m.\u001b[39;49m\u001b[43mand_\u001b[49m\u001b[43m)\u001b[49m\n",
      "File \u001b[1;32m~\\AppData\\Local\\Packages\\PythonSoftwareFoundation.Python.3.11_qbz5n2kfra8p0\\LocalCache\\local-packages\\Python311\\site-packages\\pandas\\core\\series.py:6130\u001b[0m, in \u001b[0;36mSeries._logical_method\u001b[1;34m(self, other, op)\u001b[0m\n\u001b[0;32m   6127\u001b[0m lvalues \u001b[38;5;241m=\u001b[39m \u001b[38;5;28mself\u001b[39m\u001b[38;5;241m.\u001b[39m_values\n\u001b[0;32m   6128\u001b[0m rvalues \u001b[38;5;241m=\u001b[39m extract_array(other, extract_numpy\u001b[38;5;241m=\u001b[39m\u001b[38;5;28;01mTrue\u001b[39;00m, extract_range\u001b[38;5;241m=\u001b[39m\u001b[38;5;28;01mTrue\u001b[39;00m)\n\u001b[1;32m-> 6130\u001b[0m res_values \u001b[38;5;241m=\u001b[39m \u001b[43mops\u001b[49m\u001b[38;5;241;43m.\u001b[39;49m\u001b[43mlogical_op\u001b[49m\u001b[43m(\u001b[49m\u001b[43mlvalues\u001b[49m\u001b[43m,\u001b[49m\u001b[43m \u001b[49m\u001b[43mrvalues\u001b[49m\u001b[43m,\u001b[49m\u001b[43m \u001b[49m\u001b[43mop\u001b[49m\u001b[43m)\u001b[49m\n\u001b[0;32m   6131\u001b[0m \u001b[38;5;28;01mreturn\u001b[39;00m \u001b[38;5;28mself\u001b[39m\u001b[38;5;241m.\u001b[39m_construct_result(res_values, name\u001b[38;5;241m=\u001b[39mres_name)\n",
      "File \u001b[1;32m~\\AppData\\Local\\Packages\\PythonSoftwareFoundation.Python.3.11_qbz5n2kfra8p0\\LocalCache\\local-packages\\Python311\\site-packages\\pandas\\core\\ops\\array_ops.py:459\u001b[0m, in \u001b[0;36mlogical_op\u001b[1;34m(left, right, op)\u001b[0m\n\u001b[0;32m    456\u001b[0m     \u001b[38;5;66;03m# For int vs int `^`, `|`, `&` are bitwise operators and return\u001b[39;00m\n\u001b[0;32m    457\u001b[0m     \u001b[38;5;66;03m#   integer dtypes.  Otherwise these are boolean ops\u001b[39;00m\n\u001b[0;32m    458\u001b[0m     \u001b[38;5;28;01mif\u001b[39;00m \u001b[38;5;129;01mnot\u001b[39;00m (left\u001b[38;5;241m.\u001b[39mdtype\u001b[38;5;241m.\u001b[39mkind \u001b[38;5;129;01min\u001b[39;00m \u001b[38;5;124m\"\u001b[39m\u001b[38;5;124miu\u001b[39m\u001b[38;5;124m\"\u001b[39m \u001b[38;5;129;01mand\u001b[39;00m is_other_int_dtype):\n\u001b[1;32m--> 459\u001b[0m         res_values \u001b[38;5;241m=\u001b[39m \u001b[43mfill_bool\u001b[49m\u001b[43m(\u001b[49m\u001b[43mres_values\u001b[49m\u001b[43m)\u001b[49m\n\u001b[0;32m    461\u001b[0m \u001b[38;5;28;01mreturn\u001b[39;00m res_values\n",
      "File \u001b[1;32m~\\AppData\\Local\\Packages\\PythonSoftwareFoundation.Python.3.11_qbz5n2kfra8p0\\LocalCache\\local-packages\\Python311\\site-packages\\pandas\\core\\ops\\array_ops.py:420\u001b[0m, in \u001b[0;36mlogical_op.<locals>.fill_bool\u001b[1;34m(x, left)\u001b[0m\n\u001b[0;32m    417\u001b[0m         x[mask] \u001b[38;5;241m=\u001b[39m \u001b[38;5;28;01mFalse\u001b[39;00m\n\u001b[0;32m    419\u001b[0m \u001b[38;5;28;01mif\u001b[39;00m left \u001b[38;5;129;01mis\u001b[39;00m \u001b[38;5;28;01mNone\u001b[39;00m \u001b[38;5;129;01mor\u001b[39;00m left\u001b[38;5;241m.\u001b[39mdtype\u001b[38;5;241m.\u001b[39mkind \u001b[38;5;241m==\u001b[39m \u001b[38;5;124m\"\u001b[39m\u001b[38;5;124mb\u001b[39m\u001b[38;5;124m\"\u001b[39m:\n\u001b[1;32m--> 420\u001b[0m     x \u001b[38;5;241m=\u001b[39m x\u001b[38;5;241m.\u001b[39mastype(\u001b[38;5;28mbool\u001b[39m)\n\u001b[0;32m    421\u001b[0m \u001b[38;5;28;01mreturn\u001b[39;00m x\n",
      "\u001b[1;31mKeyboardInterrupt\u001b[0m: "
     ]
    }
   ],
   "source": [
    "find_buys()"
   ]
  }
 ],
 "metadata": {
  "kernelspec": {
   "display_name": "Python 3",
   "language": "python",
   "name": "python3"
  },
  "language_info": {
   "codemirror_mode": {
    "name": "ipython",
    "version": 3
   },
   "file_extension": ".py",
   "mimetype": "text/x-python",
   "name": "python",
   "nbconvert_exporter": "python",
   "pygments_lexer": "ipython3",
   "version": "3.11.9"
  }
 },
 "nbformat": 4,
 "nbformat_minor": 2
}
